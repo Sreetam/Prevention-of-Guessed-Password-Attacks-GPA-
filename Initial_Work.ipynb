{
  "nbformat": 4,
  "nbformat_minor": 0,
  "metadata": {
    "colab": {
      "name": "Initial Work.ipynb",
      "provenance": [],
      "authorship_tag": "ABX9TyN+2irWz5OWXuNOwVh02ULm",
      "include_colab_link": true
    },
    "kernelspec": {
      "name": "python3",
      "display_name": "Python 3"
    }
  },
  "cells": [
    {
      "cell_type": "markdown",
      "metadata": {
        "id": "view-in-github",
        "colab_type": "text"
      },
      "source": [
        "<a href=\"https://colab.research.google.com/github/Sreetam/Prevention-of-Guessed-Password-Attacks-GPA-/blob/main/Initial_Work.ipynb\" target=\"_parent\"><img src=\"https://colab.research.google.com/assets/colab-badge.svg\" alt=\"Open In Colab\"/></a>"
      ]
    },
    {
      "cell_type": "code",
      "metadata": {
        "id": "7byKlZ7raGSS"
      },
      "source": [
        "import pandas as pd"
      ],
      "execution_count": 1,
      "outputs": []
    },
    {
      "cell_type": "code",
      "metadata": {
        "id": "KxebynataPoq"
      },
      "source": [
        "#The following code separates the passwords and the corresponding username and ip\n",
        "#address that the user used to access\n",
        "filepath = \"brute_force_data.csv\"\n",
        "df = pd.read_csv(filepath)\n",
        "passc = list(df.columns[2:len(df.columns)])\n",
        "passwords = []\n",
        "record = []\n",
        "\n",
        "passc.remove('foreign_ip')\n",
        "\n",
        "for i in range(len(df)):\n",
        "  record = []\n",
        "  for j in passc:\n",
        "    if(pd.isna(df[j][i])!=True):\n",
        "      record.append(df[j][i])\n",
        "  passwords.append(record)\n",
        "\n",
        "df = df.drop(columns=passc)\n",
        "df['passwords'] = passwords"
      ],
      "execution_count": 2,
      "outputs": []
    },
    {
      "cell_type": "code",
      "metadata": {
        "id": "5sq2dNOrbJHP",
        "outputId": "43dca013-131b-4040-e5bd-bfa09b166b11",
        "colab": {
          "base_uri": "https://localhost:8080/",
          "height": 424
        }
      },
      "source": [
        "df"
      ],
      "execution_count": 3,
      "outputs": [
        {
          "output_type": "execute_result",
          "data": {
            "text/html": [
              "<div>\n",
              "<style scoped>\n",
              "    .dataframe tbody tr th:only-of-type {\n",
              "        vertical-align: middle;\n",
              "    }\n",
              "\n",
              "    .dataframe tbody tr th {\n",
              "        vertical-align: top;\n",
              "    }\n",
              "\n",
              "    .dataframe thead th {\n",
              "        text-align: right;\n",
              "    }\n",
              "</style>\n",
              "<table border=\"1\" class=\"dataframe\">\n",
              "  <thead>\n",
              "    <tr style=\"text-align: right;\">\n",
              "      <th></th>\n",
              "      <th>username</th>\n",
              "      <th>timestamp</th>\n",
              "      <th>foreign_ip</th>\n",
              "      <th>passwords</th>\n",
              "    </tr>\n",
              "  </thead>\n",
              "  <tbody>\n",
              "    <tr>\n",
              "      <th>0</th>\n",
              "      <td>albert</td>\n",
              "      <td>Mon Nov  5 08:31:18 2018</td>\n",
              "      <td>109.87.224.151</td>\n",
              "      <td>[\b\b, albert, 123456]</td>\n",
              "    </tr>\n",
              "    <tr>\n",
              "      <th>1</th>\n",
              "      <td>root</td>\n",
              "      <td>Mon Nov  5 22:16:56 2018</td>\n",
              "      <td>122.226.181.166</td>\n",
              "      <td>[digi, daddy913, covergirl]</td>\n",
              "    </tr>\n",
              "    <tr>\n",
              "      <th>2</th>\n",
              "      <td>root</td>\n",
              "      <td>Mon Nov  5 07:18:16 2018</td>\n",
              "      <td>42.7.27.166</td>\n",
              "      <td>[qwerty11, qwerty12, qweqweqwe, qwer`123, qwer...</td>\n",
              "    </tr>\n",
              "    <tr>\n",
              "      <th>3</th>\n",
              "      <td>root</td>\n",
              "      <td>Sat Nov  3 19:30:58 2018</td>\n",
              "      <td>125.65.42.181</td>\n",
              "      <td>[123456, root, password]</td>\n",
              "    </tr>\n",
              "    <tr>\n",
              "      <th>4</th>\n",
              "      <td>root</td>\n",
              "      <td>Mon Nov  5 08:53:41 2018</td>\n",
              "      <td>61.184.247.12</td>\n",
              "      <td>[lomtjjz, lolita, jake1996]</td>\n",
              "    </tr>\n",
              "    <tr>\n",
              "      <th>...</th>\n",
              "      <td>...</td>\n",
              "      <td>...</td>\n",
              "      <td>...</td>\n",
              "      <td>...</td>\n",
              "    </tr>\n",
              "    <tr>\n",
              "      <th>14790</th>\n",
              "      <td>root</td>\n",
              "      <td>Wed Nov  7 00:33:37 2018</td>\n",
              "      <td>115.238.245.14</td>\n",
              "      <td>[swampy, sw0rdf1sh, sverige]</td>\n",
              "    </tr>\n",
              "    <tr>\n",
              "      <th>14791</th>\n",
              "      <td>root</td>\n",
              "      <td>Mon Nov  5 07:07:08 2018</td>\n",
              "      <td>125.65.42.181</td>\n",
              "      <td>[spiros, spencer, snicker]</td>\n",
              "    </tr>\n",
              "    <tr>\n",
              "      <th>14792</th>\n",
              "      <td>root</td>\n",
              "      <td>Tue Nov  6 09:25:41 2018</td>\n",
              "      <td>115.238.245.8</td>\n",
              "      <td>[^%$, zxczxczxc, whatisit1]</td>\n",
              "    </tr>\n",
              "    <tr>\n",
              "      <th>14793</th>\n",
              "      <td>root</td>\n",
              "      <td>Wed Nov  7 02:23:06 2018</td>\n",
              "      <td>125.65.42.183</td>\n",
              "      <td>[passwrod, root123, ubuntu]</td>\n",
              "    </tr>\n",
              "    <tr>\n",
              "      <th>14794</th>\n",
              "      <td>root</td>\n",
              "      <td>Wed Nov  7 14:01:35 2018</td>\n",
              "      <td>61.184.247.10</td>\n",
              "      <td>[longshot, joshua123, hunter3]</td>\n",
              "    </tr>\n",
              "  </tbody>\n",
              "</table>\n",
              "<p>14795 rows × 4 columns</p>\n",
              "</div>"
            ],
            "text/plain": [
              "      username  ...                                          passwords\n",
              "0       albert  ...                               [\b\b, albert, 123456]\n",
              "1         root  ...                        [digi, daddy913, covergirl]\n",
              "2         root  ...  [qwerty11, qwerty12, qweqweqwe, qwer`123, qwer...\n",
              "3         root  ...                           [123456, root, password]\n",
              "4         root  ...                        [lomtjjz, lolita, jake1996]\n",
              "...        ...  ...                                                ...\n",
              "14790     root  ...                       [swampy, sw0rdf1sh, sverige]\n",
              "14791     root  ...                         [spiros, spencer, snicker]\n",
              "14792     root  ...                        [^%$, zxczxczxc, whatisit1]\n",
              "14793     root  ...                        [passwrod, root123, ubuntu]\n",
              "14794     root  ...                     [longshot, joshua123, hunter3]\n",
              "\n",
              "[14795 rows x 4 columns]"
            ]
          },
          "metadata": {
            "tags": []
          },
          "execution_count": 3
        }
      ]
    }
  ]
}